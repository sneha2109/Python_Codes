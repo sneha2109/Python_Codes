{
 "cells": [
  {
   "cell_type": "code",
   "execution_count": 1,
   "id": "76535aa3",
   "metadata": {},
   "outputs": [
    {
     "ename": "ModuleNotFoundError",
     "evalue": "No module named 'mariadb'",
     "output_type": "error",
     "traceback": [
      "\u001b[1;31m---------------------------------------------------------------------------\u001b[0m",
      "\u001b[1;31mModuleNotFoundError\u001b[0m                       Traceback (most recent call last)",
      "\u001b[1;32m<ipython-input-1-6aa4f5163982>\u001b[0m in \u001b[0;36m<module>\u001b[1;34m\u001b[0m\n\u001b[1;32m----> 1\u001b[1;33m \u001b[1;32mimport\u001b[0m \u001b[0mmariadb\u001b[0m\u001b[1;33m\u001b[0m\u001b[1;33m\u001b[0m\u001b[0m\n\u001b[0m\u001b[0;32m      2\u001b[0m \u001b[1;32mimport\u001b[0m \u001b[0msys\u001b[0m\u001b[1;33m\u001b[0m\u001b[1;33m\u001b[0m\u001b[0m\n\u001b[0;32m      3\u001b[0m \u001b[1;33m\u001b[0m\u001b[0m\n\u001b[0;32m      4\u001b[0m \u001b[1;32mdef\u001b[0m \u001b[0mprocess\u001b[0m\u001b[1;33m(\u001b[0m\u001b[0mdatabase\u001b[0m\u001b[1;33m,\u001b[0m \u001b[0mdata\u001b[0m\u001b[1;33m)\u001b[0m\u001b[1;33m:\u001b[0m\u001b[1;33m\u001b[0m\u001b[1;33m\u001b[0m\u001b[0m\n\u001b[0;32m      5\u001b[0m     \u001b[1;32mtry\u001b[0m\u001b[1;33m:\u001b[0m\u001b[1;33m\u001b[0m\u001b[1;33m\u001b[0m\u001b[0m\n",
      "\u001b[1;31mModuleNotFoundError\u001b[0m: No module named 'mariadb'"
     ]
    }
   ],
   "source": [
    "import mariadb\n",
    "import sys\n",
    "\n",
    "def process(database, data):\n",
    "    try:\n",
    "        conn = mariadb.connect(\n",
    "            user=\"root\",\n",
    "            #password=\"password\",\n",
    "            password=\"\",\n",
    "            #host=\"localhost\",\n",
    "            host=\"127.0.0.1\",\n",
    "            port=3306,\n",
    "            #database=\"test\",\n",
    "            database=\"hospital1\",\n",
    "            autocommit=True\n",
    "        )\n",
    "    except mariadb.Error as e:\n",
    "        print(f\"Error connecting to MariaDB Platform: {e}\")\n",
    "        sys.exit(1)\n",
    "\n",
    "    cur = conn.cursor()\n",
    "    cur.execute(\"DROP TABLE IF EXISTS hospital1.contacts\")\n",
    "    cur.execute(\"CREATE TABLE hospital1.contacts (id INT PRIMARY KEY AUTO_INCREMENT,name VARCHAR(100),value INTEGER)\")\n",
    "\n",
    "    if database == \"SQL\":\n",
    "        for d in data:\n",
    "            cur.execute(\"INSERT INTO hospital1.contacts (name, value) VALUES (?, ?)\", (d[0], d[1]))\n",
    "    if (database == \"MongoDB\") | (database == \"ArangoDB\"):\n",
    "        for d in data:\n",
    "            cur.execute(\"INSERT INTO hospital1.contacts(name, value) VALUES (?, ?)\", (d[\"name\"], d[\"value\"]))\n",
    "\n",
    "    cur.execute('SELECT * FROM hospital1.contacts')\n",
    "    result_lst = []\n",
    "    for c in cur:\n",
    "        result_lst.append(c)\n",
    "    print(result_lst)"
   ]
  },
  {
   "cell_type": "code",
   "execution_count": null,
   "id": "496cc8cf",
   "metadata": {},
   "outputs": [],
   "source": []
  }
 ],
 "metadata": {
  "kernelspec": {
   "display_name": "Python 3",
   "language": "python",
   "name": "python3"
  },
  "language_info": {
   "codemirror_mode": {
    "name": "ipython",
    "version": 3
   },
   "file_extension": ".py",
   "mimetype": "text/x-python",
   "name": "python",
   "nbconvert_exporter": "python",
   "pygments_lexer": "ipython3",
   "version": "3.8.8"
  }
 },
 "nbformat": 4,
 "nbformat_minor": 5
}
