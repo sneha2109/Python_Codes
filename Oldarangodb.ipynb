{
 "cells": [
  {
   "cell_type": "code",
   "execution_count": 1,
   "id": "39ca1d1b",
   "metadata": {},
   "outputs": [
    {
     "ename": "ModuleNotFoundError",
     "evalue": "No module named 'newsql'",
     "output_type": "error",
     "traceback": [
      "\u001b[1;31m---------------------------------------------------------------------------\u001b[0m",
      "\u001b[1;31mModuleNotFoundError\u001b[0m                       Traceback (most recent call last)",
      "\u001b[1;32m<ipython-input-1-eb3a9e761813>\u001b[0m in \u001b[0;36m<module>\u001b[1;34m\u001b[0m\n\u001b[0;32m      1\u001b[0m \u001b[1;32mimport\u001b[0m \u001b[0mdata\u001b[0m\u001b[1;33m\u001b[0m\u001b[1;33m\u001b[0m\u001b[0m\n\u001b[1;32m----> 2\u001b[1;33m \u001b[1;32mimport\u001b[0m \u001b[0mnewsql\u001b[0m\u001b[1;33m\u001b[0m\u001b[1;33m\u001b[0m\u001b[0m\n\u001b[0m\u001b[0;32m      3\u001b[0m \u001b[1;32mimport\u001b[0m \u001b[0mnewmongodb\u001b[0m\u001b[1;33m\u001b[0m\u001b[1;33m\u001b[0m\u001b[0m\n\u001b[0;32m      4\u001b[0m \u001b[1;32mimport\u001b[0m \u001b[0mnewmariadb\u001b[0m\u001b[1;33m\u001b[0m\u001b[1;33m\u001b[0m\u001b[0m\n\u001b[0;32m      5\u001b[0m \u001b[1;32mfrom\u001b[0m \u001b[0marango\u001b[0m \u001b[1;32mimport\u001b[0m \u001b[0mArangoClient\u001b[0m\u001b[1;33m\u001b[0m\u001b[1;33m\u001b[0m\u001b[0m\n",
      "\u001b[1;31mModuleNotFoundError\u001b[0m: No module named 'newsql'"
     ]
    }
   ],
   "source": [
    "import data\n",
    "import newsql\n",
    "import newmongodb\n",
    "import newmariadb\n",
    "from arango import ArangoClient\n",
    "\n",
    "def arangodb_fn():\n",
    "    client = ArangoClient(hosts='http://127.0.0.1:8529/')\n",
    "    #client = ArangoClient()\n",
    "    #sys_db = client.db(\"_system\", username=\"root\", password=\"password\")\n",
    "    #sys_db = client.db(\"_system\", username=\"root\", password=\"\")\n",
    "    db = client.db(\"test\", username=\"root\", password=\"\")\n",
    "    #db = client.db(\"hospital1\", username=\"root\", password=\"\")\n",
    "    if db.has_collection('students'):\n",
    "    #if db.has_collection('students'):\n",
    "        db.delete_collection('students')\n",
    "    students = db.create_collection('students')\n",
    "\n",
    "    val = data.all_data(\"ArangoDB\")\n",
    "    students.add_hash_index(fields=[\"name\"], unique=True)\n",
    "    for v in val:\n",
    "        students.insert(v)\n",
    "\n",
    "    cursor = db.aql.execute(\"FOR doc IN students RETURN doc\")\n",
    "    lst_data = []\n",
    "    for doc in cursor:\n",
    "        noid = {i: doc[i] for i in [\"name\", \"value\"]}\n",
    "        lst_data.append(noid)\n",
    "\n",
    "    newdata = input(\"Please enter the new database: \")\n",
    "    if newdata == \"SQL\":\n",
    "        newsql.process(\"ArangoDB\", lst_data)\n",
    "    if newdata == \"MongoDB\":\n",
    "        newmongodb.process(\"ArangoDB\", lst_data)\n",
    "    if newdata == \"MariaDB\":\n",
    "        newmariadb.process(\"ArangoDB\", lst_data)"
   ]
  },
  {
   "cell_type": "code",
   "execution_count": null,
   "id": "b1cfb798",
   "metadata": {},
   "outputs": [],
   "source": []
  },
  {
   "cell_type": "code",
   "execution_count": null,
   "id": "53ca9b8c",
   "metadata": {},
   "outputs": [],
   "source": []
  }
 ],
 "metadata": {
  "kernelspec": {
   "display_name": "Python 3",
   "language": "python",
   "name": "python3"
  },
  "language_info": {
   "codemirror_mode": {
    "name": "ipython",
    "version": 3
   },
   "file_extension": ".py",
   "mimetype": "text/x-python",
   "name": "python",
   "nbconvert_exporter": "python",
   "pygments_lexer": "ipython3",
   "version": "3.8.8"
  }
 },
 "nbformat": 4,
 "nbformat_minor": 5
}
