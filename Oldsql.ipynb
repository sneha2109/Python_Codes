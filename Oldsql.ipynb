{
 "cells": [
  {
   "cell_type": "code",
   "execution_count": 1,
   "id": "f240be23",
   "metadata": {},
   "outputs": [
    {
     "ename": "ModuleNotFoundError",
     "evalue": "No module named 'newmongodb'",
     "output_type": "error",
     "traceback": [
      "\u001b[1;31m---------------------------------------------------------------------------\u001b[0m",
      "\u001b[1;31mModuleNotFoundError\u001b[0m                       Traceback (most recent call last)",
      "\u001b[1;32m<ipython-input-1-98a26a21a682>\u001b[0m in \u001b[0;36m<module>\u001b[1;34m\u001b[0m\n\u001b[0;32m      1\u001b[0m \u001b[1;32mimport\u001b[0m \u001b[0mdata\u001b[0m\u001b[1;33m\u001b[0m\u001b[1;33m\u001b[0m\u001b[0m\n\u001b[1;32m----> 2\u001b[1;33m \u001b[1;32mimport\u001b[0m \u001b[0mnewmongodb\u001b[0m\u001b[1;33m\u001b[0m\u001b[1;33m\u001b[0m\u001b[0m\n\u001b[0m\u001b[0;32m      3\u001b[0m \u001b[1;32mimport\u001b[0m \u001b[0mnewmariadb\u001b[0m\u001b[1;33m\u001b[0m\u001b[1;33m\u001b[0m\u001b[0m\n\u001b[0;32m      4\u001b[0m \u001b[1;32mimport\u001b[0m \u001b[0mnewarangodb\u001b[0m\u001b[1;33m\u001b[0m\u001b[1;33m\u001b[0m\u001b[0m\n\u001b[0;32m      5\u001b[0m \u001b[1;32mimport\u001b[0m \u001b[0mmysql\u001b[0m\u001b[1;33m.\u001b[0m\u001b[0mconnector\u001b[0m \u001b[1;32mas\u001b[0m \u001b[0mmariadb\u001b[0m\u001b[1;33m\u001b[0m\u001b[1;33m\u001b[0m\u001b[0m\n",
      "\u001b[1;31mModuleNotFoundError\u001b[0m: No module named 'newmongodb'"
     ]
    }
   ],
   "source": [
    "import data\n",
    "import newmongodb\n",
    "import newmariadb\n",
    "import newarangodb\n",
    "import mysql.connector as mariadb\n",
    "import sys\n",
    "import pyodbc\n",
    "\n",
    "def sql_fn():\n",
    "\ttry:\n",
    "\t\tconn = pyodbc.connect('Driver=ODBC Driver 17 for SQL Server;'\n",
    "\t\t\t\t#'Server=DESKTOP-SDDSOLT\\SQLEXPRESS;'\n",
    "\t\t\t\t'Server=localhost;'\n",
    "\t\t\t\t'Database=hospital1;'\n",
    "\t\t\t\t'Trusted_Connection=yes;')\n",
    "\n",
    "\texcept pyodbc.Error as e:\n",
    "\t\tprint(f\"Error connecting to MariaDB platform: {e}\")\n",
    "\t\tsys.exit(1)\n",
    "\n",
    "\tcursor = conn.cursor()\n",
    "\tcursor.execute(\"DROP TABLE customers\")\n",
    "\tcursor.execute(\"CREATE TABLE customers (name VARCHAR(100), value INTEGER)\")\n",
    "\tsql = \"INSERT INTO customers (name, value) VALUES (?, ?)\"\n",
    "\tval = data.all_data(\"SQL\")\n",
    "\tcursor.executemany(sql, val)\n",
    "\tconn.commit()\n",
    "\tcursor.execute('SELECT * FROM customers')\n",
    "\tlst_data = []\n",
    "\tfor d in cursor:\n",
    "\t\tlst_data.append(d)\n",
    "\n",
    "\tnewdata = input(\"Please enter the new database: \")\n",
    "\tif newdata == \"MongoDB\":\n",
    "\t\tnewmongodb.process(\"SQL\", lst_data)\n",
    "\tif newdata == \"MariaDB\":\n",
    "\t\tnewmariadb.process(\"SQL\", lst_data)\n",
    "\tif newdata == \"ArangoDB\":\n",
    "\t\tnewarangodb.process(\"SQL\", lst_data)"
   ]
  },
  {
   "cell_type": "code",
   "execution_count": null,
   "id": "15905b4b",
   "metadata": {},
   "outputs": [],
   "source": []
  }
 ],
 "metadata": {
  "kernelspec": {
   "display_name": "Python 3",
   "language": "python",
   "name": "python3"
  },
  "language_info": {
   "codemirror_mode": {
    "name": "ipython",
    "version": 3
   },
   "file_extension": ".py",
   "mimetype": "text/x-python",
   "name": "python",
   "nbconvert_exporter": "python",
   "pygments_lexer": "ipython3",
   "version": "3.8.8"
  }
 },
 "nbformat": 4,
 "nbformat_minor": 5
}
