{
 "cells": [
  {
   "cell_type": "code",
   "execution_count": null,
   "id": "224eae1b",
   "metadata": {},
   "outputs": [],
   "source": [
    "import data\n",
    "import newsql\n",
    "import data\n",
    "import newsql\n",
    "import newmongodb\n",
    "import newarangodb\n",
    "import mariadb\n",
    "import sys\n",
    "\n",
    "def mariadb_fn():\n",
    "    try:\n",
    "        conn = mariadb.connect(\n",
    "            user=\"root\",\n",
    "            #password=\"password\",\n",
    "            password=\"\",\n",
    "            host=\"127.0.0.1\",\n",
    "            #host=\"localhost\",\n",
    "            port=3306,\n",
    "            #database=\"test\",\n",
    "            database=\"hospital1\",\n",
    "            autocommit=True\n",
    "        )\n",
    "    except mariadb.Error as e:\n",
    "        print(f\"Error connecting to MariaDB Platform: {e}\")\n",
    "        sys.exit(1)\n",
    "\n",
    "    cur = conn.cursor()\n",
    "    cur.execute(\"DROP TABLE IF EXISTS hospital1.contacts\")\n",
    "    cur.execute(\"CREATE TABLE hospital1.contacts (id INT PRIMARY KEY AUTO_INCREMENT,name VARCHAR(100),value INTEGER)\")\n",
    "\n",
    "    val = data.all_data(\"MariaDB\")\n",
    "    for v in val:\n",
    "        cur.execute(\"INSERT INTO hospital1.contacts (name, value) VALUES (?, ?)\", (v[0], v[1]))\n",
    "    cur.execute('SELECT * FROM hospital1.contacts')\n",
    "    lst_data = []\n",
    "    for c in cur:\n",
    "        lst_data.append((c[1], c[2]))\n",
    "    \n",
    "    newdata = input(\"Please enter the new database: \")\n",
    "    if newdata == \"SQL\":\n",
    "        newsql.process(\"MariaDB\", lst_data)\n",
    "    if newdata == \"MongoDB\":\n",
    "        newmongodb.process(\"MariaDB\", lst_data)\n",
    "    if newdata == \"ArangoDB\":\n",
    "        newarangodb.process(\"MariaDB\", lst_data)"
   ]
  }
 ],
 "metadata": {
  "kernelspec": {
   "display_name": "Python 3",
   "language": "python",
   "name": "python3"
  },
  "language_info": {
   "codemirror_mode": {
    "name": "ipython",
    "version": 3
   },
   "file_extension": ".py",
   "mimetype": "text/x-python",
   "name": "python",
   "nbconvert_exporter": "python",
   "pygments_lexer": "ipython3",
   "version": "3.8.8"
  }
 },
 "nbformat": 4,
 "nbformat_minor": 5
}
