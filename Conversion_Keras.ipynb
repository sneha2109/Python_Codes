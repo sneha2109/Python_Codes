{
 "cells": [
  {
   "cell_type": "code",
   "execution_count": null,
   "id": "dfaf4a5d",
   "metadata": {},
   "outputs": [],
   "source": [
    "import numpy as np\n",
    "import pandas as pd\n",
    "import string\n",
    "import keras\n",
    "import os\n",
    "df = pd.read_csv(\"mtsamples.csv\")\n",
    "df['transcription'] = df['keywords']+df['transcription'] "
   ]
  },
  {
   "cell_type": "code",
   "execution_count": null,
   "id": "ed694adf",
   "metadata": {},
   "outputs": [],
   "source": [
    "# prompt for file name to convert to csv\n",
    "my_file = input(\"File to convert to csv:\")"
   ]
  },
  {
   "cell_type": "code",
   "execution_count": null,
   "id": "3e1e53c0",
   "metadata": {},
   "outputs": [],
   "source": [
    "# convert file to csv\n",
    "base = os.path.splitext(my_file)[0]\n",
    "new_name = base + '.csv'\n",
    "os.rename(my_file, new_name)\n",
    "#print(base + '.txt')"
   ]
  },
  {
   "cell_type": "code",
   "execution_count": null,
   "id": "c25d295f",
   "metadata": {},
   "outputs": [],
   "source": [
    "# read converted file into dataframe\n",
    "df = pd.read_csv(new_name)\n",
    "#df1 = pd.read_csv(\"mtsamples_original.csv\")"
   ]
  },
  {
   "cell_type": "code",
   "execution_count": null,
   "id": "1e74547a",
   "metadata": {},
   "outputs": [],
   "source": [
    "# compare two csv files\n",
    "df1 = pd.read_csv(\"cities.csv\")\n",
    "df_1 = pd.DataFrame(df)\n",
    "df_2 = pd.DataFrame(df1)\n",
    "#df_1.eq(df_2)\n",
    "#if schemas match, do nothing.  If they do not, prompt for whether or not to merge the two dataframes\n",
    "if df_1.equals(df_2) == True:\n",
    "    print(\"Columns match\")\n",
    "else:\n",
    "    my_response = input(\"Schemas are not the same. Would you like to convert the file to appropriate format?:\")\n",
    "    if (my_response == \"Yes\"):\n",
    "        df3 = pd.concat([df_1,df_2]).drop_duplicates(keep=False)\n",
    "    #df3 = df_1.merge(df_2, how = 'inner', indicator=False)\n",
    "        print(df3)\n",
    "    else:\n",
    "        print(\"No changes made\")\n",
    "\n",
    "#print(df_1.compare(df_2))\n",
    "#print(df_1 == df_2)\n",
    "#df_2.reset_index(drop=True, inplace=True)\n",
    "#if df_1 == df_2:\n",
    " #   print(\"true\")\n",
    "#else:\n",
    " #   print(\"false\")\n",
    "#print(v)\n",
    "# store database file as dataframe and look a"
   ]
  },
  {
   "cell_type": "code",
   "execution_count": null,
   "id": "ae3a5da8",
   "metadata": {},
   "outputs": [],
   "source": [
    "# store database file as dataframe and look at schema\n",
    "import sqlite3\n",
    "con = sqlite3.connect('NoteStore.sqlite')\n",
    "df3 = pd.read_sql_query('select * from sqlite_master', con)\n",
    "df_1 = pd.DataFrame(df3)\n",
    "pd.io.json.build_table_schema(df_1)\n",
    "#print(df_1.head())"
   ]
  },
  {
   "cell_type": "code",
   "execution_count": null,
   "id": "401243ae",
   "metadata": {},
   "outputs": [],
   "source": [
    "# compare 2 different schemas - one database and one csv\n",
    "# store database file as dataframe \n",
    "import sqlite3\n",
    "con = sqlite3.connect('NoteStore.sqlite')\n",
    "df3 = pd.read_sql_query('select * from sqlite_master', con)\n",
    "df_1 = pd.DataFrame(df3)\n",
    "pd.io.json.build_table_schema(df_1)\n",
    "\n",
    "# store csv file as dataframe\n",
    "df2 = pd.read_csv(\"cities.csv\")\n",
    "df_2 = pd.DataFrame(df2)\n",
    "pd.io.json.build_table_schema(df_2)\n",
    "\n",
    "# combine the two dataframes - option if prompts will not be needed\n",
    "df3 = pd.concat([df_1,df_2],axis=0, ignore_index=True)\n",
    "pd.io.json.build_table_schema(df3)\n",
    "#print(df_1.head())"
   ]
  },
  {
   "cell_type": "code",
   "execution_count": null,
   "id": "a063178f",
   "metadata": {},
   "outputs": [],
   "source": [
    "#look at 2 schemas\n",
    "#df1 = pd.read_csv(\"cities.csv\")\n",
    "#df_1 = pd.DataFrame(df1)\n",
    "#pd.io.json.build_table_schema(df_1)"
   ]
  },
  {
   "cell_type": "code",
   "execution_count": null,
   "id": "1a4b30db",
   "metadata": {},
   "outputs": [],
   "source": [
    "#df2 = pd.read_csv(\"mtsamples.csv\")\n",
    "#df_2 = pd.DataFrame(df2)\n",
    "#pd.io.json.build_table_schema(df_2)"
   ]
  },
  {
   "cell_type": "code",
   "execution_count": null,
   "id": "c624f755",
   "metadata": {},
   "outputs": [],
   "source": [
    "# merge two similar dataframes - csv - into one dataframe\n",
    "df1 = pd.read_csv(\"cities.csv\")\n",
    "df_1 = pd.DataFrame(df1)\n",
    "pd.io.json.build_table_schema(df_1)\n",
    "df2 = pd.read_csv(\"mtsamples.csv\")\n",
    "df_2 = pd.DataFrame(df2)\n",
    "pd.io.json.build_table_schema(df_2)\n",
    "#df3 = pd.concat([df_1,df_2]).drop_duplicates(keep=False)\n",
    "df3 = pd.concat([df_1,df_2],axis=0, ignore_index=True)\n",
    "pd.io.json.build_table_schema(df3)\n",
    "#print(df3)"
   ]
  },
  {
   "cell_type": "code",
   "execution_count": null,
   "id": "27361327",
   "metadata": {},
   "outputs": [],
   "source": [
    "# convert json file into csv\n",
    "# convert json file into dataframe\n",
    "pdObj = pd.read_json('movies.json', orient='index')\n",
    "\n",
    "# convert dataframe to csv \n",
    "csvData = pdObj.to_csv('streaming.csv', index=False)"
   ]
  },
  {
   "cell_type": "code",
   "execution_count": null,
   "id": "837cdf01",
   "metadata": {},
   "outputs": [],
   "source": [
    "# compare one dataframe to another\n",
    "#df1 = pd.read_csv(\"cities.csv\")\n",
    "#df_1 = pd.DataFrame(df)\n",
    "#df_2 = pd.DataFrame(df1)\n",
    "#df_1.eq(df_2)\n",
    "#if df_1.equals(df_2) == True:\n",
    " #   print(\"Columns match\")\n",
    "#else:\n",
    " #   my_response = input(\"Schemas are not the same. Would you like to convert for file to appropriate format?:\")\n",
    "  #  if (my_response == \"Yes\"):\n",
    "  #      df3 = pd.concat([df_1,df_2]).drop_duplicates(keep=False)\n",
    "    #df3 = df_1.merge(df_2, how = 'inner', indicator=False)\n",
    "  #      print(df3)\n",
    "  #  else:\n",
    "  #      print(\"No changes made\")\n",
    "\n",
    "#print(df_1.compare(df_2))\n",
    "#print(df_1 == df_2)\n",
    "#df_2.reset_index(drop=True, inplace=True)\n",
    "#if df_1 == df_2:\n",
    " #   print(\"true\")\n",
    "#else:\n",
    " #   print(\"false\")\n",
    "#print(v)"
   ]
  },
  {
   "cell_type": "code",
   "execution_count": null,
   "id": "d1da9385",
   "metadata": {},
   "outputs": [],
   "source": [
    "# install data model\n",
    "!pip install simpletransformers --use-feature=2020-resolver"
   ]
  },
  {
   "cell_type": "code",
   "execution_count": null,
   "id": "3d11002e",
   "metadata": {},
   "outputs": [],
   "source": [
    "data = df3[['transcription', 'medical_specialty']]\n",
    "data = data.drop(data[data['transcription'].isna()].index)"
   ]
  },
  {
   "cell_type": "code",
   "execution_count": null,
   "id": "ee7647f7",
   "metadata": {},
   "outputs": [],
   "source": [
    "pip install stop_words"
   ]
  },
  {
   "cell_type": "code",
   "execution_count": null,
   "id": "079d020b",
   "metadata": {},
   "outputs": [],
   "source": [
    "import re\n",
    "from stop_words import get_stop_words\n",
    "import string\n",
    "\n",
    "def clean_text(text): \n",
    "    text = text.translate(str.maketrans('', '', string.punctuation))\n",
    "    newtext = ''.join([w for w in text if not w.isdigit()]) \n",
    "    REPLACE_BY_SPACE_RE = re.compile('[/(){}\\[\\]\\|@,;]')\n",
    "    newtext = newtext.lower()\n",
    "    newtext = REPLACE_BY_SPACE_RE.sub('', newtext)\n",
    "    STOPWORDS = set(get_stop_words('en'))\n",
    "    words = newtext.split(\" \")\n",
    "    i = 0\n",
    "    while i < len(words):\n",
    "        if words[i] in STOPWORDS:\n",
    "            words.pop(i)\n",
    "        else:\n",
    "            i += 1\n",
    "    newtext = ' '.join(map(str, words))\n",
    "    return newtext"
   ]
  },
  {
   "cell_type": "code",
   "execution_count": null,
   "id": "88503407",
   "metadata": {},
   "outputs": [],
   "source": [
    "counts = df['medical_specialty'].value_counts()\n",
    "others = [k for k,v in counts.items() if v<100]\n",
    "for each_spec in others:\n",
    "    df.loc[df['medical_specialty']==each_spec, 'medical_specialty'] = 'others' "
   ]
  },
  {
   "cell_type": "code",
   "execution_count": null,
   "id": "35b622bb",
   "metadata": {},
   "outputs": [],
   "source": [
    "df.loc[:, 'transcription'] = [clean_text(x) if x == x else \"\" for x in df['transcription'].values]"
   ]
  },
  {
   "cell_type": "code",
   "execution_count": null,
   "id": "de2ff936",
   "metadata": {},
   "outputs": [],
   "source": [
    "from sklearn.feature_extraction.text import CountVectorizer\n",
    "from sklearn.model_selection import train_test_split\n",
    "from sklearn.preprocessing import LabelEncoder"
   ]
  },
  {
   "cell_type": "code",
   "execution_count": null,
   "id": "b23d3147",
   "metadata": {},
   "outputs": [],
   "source": [
    "vectorizer=CountVectorizer(analyzer='word')\n",
    "feature_space=vectorizer.fit_transform(list(df['transcription']))"
   ]
  },
  {
   "cell_type": "code",
   "execution_count": null,
   "id": "7fc234e1",
   "metadata": {},
   "outputs": [],
   "source": [
    "count_vect_df = pd.DataFrame(feature_space.todense(), columns=vectorizer.get_feature_names())\n",
    "new_df=pd.concat([df, count_vect_df], axis=1)"
   ]
  },
  {
   "cell_type": "code",
   "execution_count": null,
   "id": "1a877cc7",
   "metadata": {},
   "outputs": [],
   "source": [
    "X=new_df.loc[:, 'aa':]\n",
    "\n",
    "lb_make = LabelEncoder()\n",
    "new_df[\"medical_specialty_code\"] = lb_make.fit_transform(new_df[\"medical_specialty\"])\n",
    "\n",
    "Y=new_df['medical_specialty_code']"
   ]
  },
  {
   "cell_type": "code",
   "execution_count": null,
   "id": "56802218",
   "metadata": {},
   "outputs": [],
   "source": [
    "X_train, X_test, y_train, y_test = train_test_split(X, Y, test_size=0.2, random_state=1)"
   ]
  },
  {
   "cell_type": "code",
   "execution_count": null,
   "id": "486c845a",
   "metadata": {},
   "outputs": [],
   "source": [
    "from keras.models import Sequential\n",
    "from keras.layers import Dense, Dropout, Activation"
   ]
  },
  {
   "cell_type": "code",
   "execution_count": null,
   "id": "a65464cc",
   "metadata": {},
   "outputs": [],
   "source": [
    "def build_sequential(input_size, output_size):\n",
    "    model=Sequential()\n",
    "    model.add(Dense(512, input_shape=(input_size, )   ))\n",
    "    model.add(Activation('relu'))\n",
    "    model.add(Dropout(0.5))\n",
    "    model.add(Dense(len(output_size)))\n",
    "    model.add(Activation('softmax'))\n",
    "    return model"
   ]
  },
  {
   "cell_type": "code",
   "execution_count": null,
   "id": "22fedb92",
   "metadata": {},
   "outputs": [],
   "source": [
    "classes = len(Y.unique())\n",
    "y_train = np.eye(classes)[y_train]\n",
    "y_test = np.eye(classes)[y_test]"
   ]
  },
  {
   "cell_type": "code",
   "execution_count": null,
   "id": "e5992357",
   "metadata": {},
   "outputs": [],
   "source": [
    "model = build_sequential(X_train.shape[1], lb_make.classes_)\n",
    "model.compile(loss='categorical_crossentropy', optimizer='adam', metrics=['accuracy'])\n",
    "batch_size=100\n",
    "epochs=30\n",
    "history=model.fit(np.array(X_train), np.array(y_train), batch_size=batch_size, epochs=epochs, verbose=1, validation_split = 0.1)"
   ]
  },
  {
   "cell_type": "code",
   "execution_count": null,
   "id": "06bf25a7",
   "metadata": {},
   "outputs": [],
   "source": [
    "print (model.evaluate(np.array(X_test), np.array(y_test)))"
   ]
  },
  {
   "cell_type": "code",
   "execution_count": null,
   "id": "8185b728",
   "metadata": {},
   "outputs": [],
   "source": []
  }
 ],
 "metadata": {
  "kernelspec": {
   "display_name": "Python 3",
   "language": "python",
   "name": "python3"
  },
  "language_info": {
   "codemirror_mode": {
    "name": "ipython",
    "version": 3
   },
   "file_extension": ".py",
   "mimetype": "text/x-python",
   "name": "python",
   "nbconvert_exporter": "python",
   "pygments_lexer": "ipython3",
   "version": "3.8.8"
  }
 },
 "nbformat": 4,
 "nbformat_minor": 5
}
