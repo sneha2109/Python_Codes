{
 "cells": [
  {
   "cell_type": "code",
   "execution_count": 1,
   "id": "777c39b8",
   "metadata": {},
   "outputs": [
    {
     "ename": "ModuleNotFoundError",
     "evalue": "No module named 'arango'",
     "output_type": "error",
     "traceback": [
      "\u001b[1;31m---------------------------------------------------------------------------\u001b[0m",
      "\u001b[1;31mModuleNotFoundError\u001b[0m                       Traceback (most recent call last)",
      "\u001b[1;32m<ipython-input-1-690af5f9cd3f>\u001b[0m in \u001b[0;36m<module>\u001b[1;34m\u001b[0m\n\u001b[1;32m----> 1\u001b[1;33m \u001b[1;32mfrom\u001b[0m \u001b[0marango\u001b[0m \u001b[1;32mimport\u001b[0m \u001b[0mArangoClient\u001b[0m\u001b[1;33m\u001b[0m\u001b[1;33m\u001b[0m\u001b[0m\n\u001b[0m\u001b[0;32m      2\u001b[0m \u001b[1;33m\u001b[0m\u001b[0m\n\u001b[0;32m      3\u001b[0m \u001b[1;32mdef\u001b[0m \u001b[0mprocess\u001b[0m\u001b[1;33m(\u001b[0m\u001b[0mdatabase\u001b[0m\u001b[1;33m,\u001b[0m \u001b[0mdata\u001b[0m\u001b[1;33m)\u001b[0m\u001b[1;33m:\u001b[0m\u001b[1;33m\u001b[0m\u001b[1;33m\u001b[0m\u001b[0m\n\u001b[0;32m      4\u001b[0m     \u001b[0mclient\u001b[0m \u001b[1;33m=\u001b[0m \u001b[0mArangoClient\u001b[0m\u001b[1;33m(\u001b[0m\u001b[0mhosts\u001b[0m\u001b[1;33m=\u001b[0m\u001b[1;34m'http://127.0.0.1:8529/'\u001b[0m\u001b[1;33m)\u001b[0m\u001b[1;33m\u001b[0m\u001b[1;33m\u001b[0m\u001b[0m\n\u001b[0;32m      5\u001b[0m     \u001b[1;31m#sys_db = client.db(\"_system\", username=\"root\", password=\"password\")\u001b[0m\u001b[1;33m\u001b[0m\u001b[1;33m\u001b[0m\u001b[1;33m\u001b[0m\u001b[0m\n",
      "\u001b[1;31mModuleNotFoundError\u001b[0m: No module named 'arango'"
     ]
    }
   ],
   "source": [
    "from arango import ArangoClient\n",
    "\n",
    "def process(database, data):\n",
    "    client = ArangoClient(hosts='http://127.0.0.1:8529/')\n",
    "    #sys_db = client.db(\"_system\", username=\"root\", password=\"password\")\n",
    "    db = client.db(\"test\", username=\"root\", password=\"\")\n",
    "    if db.has_collection('students'):\n",
    "        db.delete_collection('students')\n",
    "    students = db.create_collection('students')\n",
    "\n",
    "    students.add_hash_index(fields=[\"name\"], unique=True)\n",
    "    if (database == \"SQL\") | (database == \"MariaDB\"):\n",
    "        for d in data:\n",
    "            students.insert({\"name\": d[0], \"value\": d[1]})\n",
    "    if database == \"MongoDB\":\n",
    "        for d in data:\n",
    "            students.insert(d)\n",
    "\n",
    "    cursor = db.aql.execute(\"FOR doc IN students RETURN doc\")\n",
    "    result_lst = []\n",
    "    for doc in cursor:\n",
    "        result_lst.append(doc)\n",
    "    print(result_lst)"
   ]
  },
  {
   "cell_type": "code",
   "execution_count": null,
   "id": "17783cfa",
   "metadata": {},
   "outputs": [],
   "source": []
  }
 ],
 "metadata": {
  "kernelspec": {
   "display_name": "Python 3",
   "language": "python",
   "name": "python3"
  },
  "language_info": {
   "codemirror_mode": {
    "name": "ipython",
    "version": 3
   },
   "file_extension": ".py",
   "mimetype": "text/x-python",
   "name": "python",
   "nbconvert_exporter": "python",
   "pygments_lexer": "ipython3",
   "version": "3.8.8"
  }
 },
 "nbformat": 4,
 "nbformat_minor": 5
}
