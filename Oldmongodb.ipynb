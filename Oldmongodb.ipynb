{
 "cells": [
  {
   "cell_type": "code",
   "execution_count": 1,
   "id": "4265bcfb",
   "metadata": {},
   "outputs": [
    {
     "ename": "ModuleNotFoundError",
     "evalue": "No module named 'newsql'",
     "output_type": "error",
     "traceback": [
      "\u001b[1;31m---------------------------------------------------------------------------\u001b[0m",
      "\u001b[1;31mModuleNotFoundError\u001b[0m                       Traceback (most recent call last)",
      "\u001b[1;32m<ipython-input-1-886cd488d385>\u001b[0m in \u001b[0;36m<module>\u001b[1;34m\u001b[0m\n\u001b[0;32m      1\u001b[0m \u001b[1;32mimport\u001b[0m \u001b[0mdata\u001b[0m\u001b[1;33m\u001b[0m\u001b[1;33m\u001b[0m\u001b[0m\n\u001b[1;32m----> 2\u001b[1;33m \u001b[1;32mimport\u001b[0m \u001b[0mnewsql\u001b[0m\u001b[1;33m\u001b[0m\u001b[1;33m\u001b[0m\u001b[0m\n\u001b[0m\u001b[0;32m      3\u001b[0m \u001b[1;32mimport\u001b[0m \u001b[0mnewmariadb\u001b[0m\u001b[1;33m\u001b[0m\u001b[1;33m\u001b[0m\u001b[0m\n\u001b[0;32m      4\u001b[0m \u001b[1;32mimport\u001b[0m \u001b[0mnewarangodb\u001b[0m\u001b[1;33m\u001b[0m\u001b[1;33m\u001b[0m\u001b[0m\n\u001b[0;32m      5\u001b[0m \u001b[1;32mfrom\u001b[0m \u001b[0mpymongo\u001b[0m \u001b[1;32mimport\u001b[0m \u001b[0mMongoClient\u001b[0m\u001b[1;33m\u001b[0m\u001b[1;33m\u001b[0m\u001b[0m\n",
      "\u001b[1;31mModuleNotFoundError\u001b[0m: No module named 'newsql'"
     ]
    }
   ],
   "source": [
    "import data\n",
    "import newsql\n",
    "import newmariadb\n",
    "import newarangodb\n",
    "from pymongo import MongoClient\n",
    "\n",
    "def mongodb_fn():\n",
    "    client = MongoClient(port=27017)\n",
    "    db=client.business\n",
    "\n",
    "    db.reviews.drop()\n",
    "    val = data.all_data(\"MongoDB\")\n",
    "    for v in val:\n",
    "        db.reviews.insert_one(v)\n",
    "\n",
    "    cursor = db.reviews.find({})\n",
    "    lst_data = []\n",
    "    for item in cursor:\n",
    "        noid = {i: item[i] for i in ['name','value']}\n",
    "        lst_data.append(noid)\n",
    "\n",
    "    newdata = input(\"Please enter the new database: \")\n",
    "    if newdata == \"SQL\":\n",
    "        newsql.process(\"MongoDB\", lst_data)\n",
    "    if newdata == \"MariaDB\":\n",
    "        newmariadb.process(\"MongoDB\", lst_data)\n",
    "    if newdata == \"ArangoDB\":\n",
    "        newarangodb.process(\"MongoDB\", lst_data)"
   ]
  },
  {
   "cell_type": "code",
   "execution_count": null,
   "id": "55aa7421",
   "metadata": {},
   "outputs": [],
   "source": []
  }
 ],
 "metadata": {
  "kernelspec": {
   "display_name": "Python 3",
   "language": "python",
   "name": "python3"
  },
  "language_info": {
   "codemirror_mode": {
    "name": "ipython",
    "version": 3
   },
   "file_extension": ".py",
   "mimetype": "text/x-python",
   "name": "python",
   "nbconvert_exporter": "python",
   "pygments_lexer": "ipython3",
   "version": "3.8.8"
  }
 },
 "nbformat": 4,
 "nbformat_minor": 5
}
