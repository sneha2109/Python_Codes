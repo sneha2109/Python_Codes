{
 "cells": [
  {
   "cell_type": "code",
   "execution_count": 1,
   "id": "e05ca8a7",
   "metadata": {},
   "outputs": [
    {
     "name": "stderr",
     "output_type": "stream",
     "text": [
      "python: can't open file 'install': [Errno 2] No such file or directory\n"
     ]
    }
   ],
   "source": [
    "!python install pip"
   ]
  },
  {
   "cell_type": "code",
   "execution_count": 2,
   "id": "f9ba50d7",
   "metadata": {},
   "outputs": [
    {
     "name": "stdout",
     "output_type": "stream",
     "text": [
      "Requirement already satisfied: mysql.connector in c:\\users\\hp\\anaconda3\\lib\\site-packages (2.2.9)\n"
     ]
    }
   ],
   "source": [
    "!pip3 install mysql.connector"
   ]
  },
  {
   "cell_type": "code",
   "execution_count": 3,
   "id": "4a01e740",
   "metadata": {},
   "outputs": [
    {
     "name": "stdout",
     "output_type": "stream",
     "text": [
      "Requirement already satisfied: mysql-connector in c:\\users\\hp\\anaconda3\\lib\\site-packages (2.2.9)\n"
     ]
    }
   ],
   "source": [
    "#!pip install mysql-connector-python\n",
    "!python -m pip install mysql-connector\n",
    "#!brew install mysql-connector-c++"
   ]
  },
  {
   "cell_type": "code",
   "execution_count": 4,
   "id": "09e94fcf",
   "metadata": {},
   "outputs": [],
   "source": [
    "import mysql.connector\n",
    "from mysql.connector import Error\n",
    "import pandas as pd"
   ]
  },
  {
   "cell_type": "code",
   "execution_count": 5,
   "id": "aa8b9968",
   "metadata": {},
   "outputs": [],
   "source": [
    "def create_server_connection(host_name, user_name, user_password):\n",
    "    connection = None\n",
    "    try:\n",
    "        connection = mysql.connector.connect(\n",
    "            host=host_name,\n",
    "            user=user_name,\n",
    "            passwd=user_password\n",
    "        )\n",
    "        print(\"MySQL Database connection successful\")\n",
    "    except Error as err:\n",
    "        print(f\"Error: '{err}'\")\n",
    "\n",
    "    return connection"
   ]
  },
  {
   "cell_type": "code",
   "execution_count": 6,
   "id": "5e50179a",
   "metadata": {},
   "outputs": [
    {
     "name": "stdout",
     "output_type": "stream",
     "text": [
      "Error: '2003: Can't connect to MySQL server on 'localhost:3306' (10061 No connection could be made because the target machine actively refused it)'\n"
     ]
    }
   ],
   "source": [
    "connection = create_server_connection(\"localhost\", \"root\",'')"
   ]
  },
  {
   "cell_type": "code",
   "execution_count": 10,
   "id": "14364492",
   "metadata": {},
   "outputs": [
    {
     "ename": "AttributeError",
     "evalue": "'NoneType' object has no attribute 'cursor'",
     "output_type": "error",
     "traceback": [
      "\u001b[1;31m---------------------------------------------------------------------------\u001b[0m",
      "\u001b[1;31mAttributeError\u001b[0m                            Traceback (most recent call last)",
      "\u001b[1;32m<ipython-input-10-12417c1d5be0>\u001b[0m in \u001b[0;36m<module>\u001b[1;34m\u001b[0m\n\u001b[0;32m      1\u001b[0m \u001b[0mcreate_database_query\u001b[0m\u001b[1;33m=\u001b[0m\u001b[1;34m\"create database hospital1\"\u001b[0m\u001b[1;33m\u001b[0m\u001b[1;33m\u001b[0m\u001b[0m\n\u001b[1;32m----> 2\u001b[1;33m \u001b[0mcreate_database\u001b[0m\u001b[1;33m(\u001b[0m\u001b[0mconnection\u001b[0m\u001b[1;33m,\u001b[0m \u001b[0mcreate_database_query\u001b[0m\u001b[1;33m)\u001b[0m\u001b[1;33m\u001b[0m\u001b[1;33m\u001b[0m\u001b[0m\n\u001b[0m",
      "\u001b[1;32m<ipython-input-7-f21a5dc6389a>\u001b[0m in \u001b[0;36mcreate_database\u001b[1;34m(connection, query)\u001b[0m\n\u001b[0;32m      1\u001b[0m \u001b[1;32mdef\u001b[0m \u001b[0mcreate_database\u001b[0m\u001b[1;33m(\u001b[0m\u001b[0mconnection\u001b[0m\u001b[1;33m,\u001b[0m \u001b[0mquery\u001b[0m\u001b[1;33m)\u001b[0m\u001b[1;33m:\u001b[0m\u001b[1;33m\u001b[0m\u001b[1;33m\u001b[0m\u001b[0m\n\u001b[1;32m----> 2\u001b[1;33m     \u001b[0mcursor\u001b[0m \u001b[1;33m=\u001b[0m \u001b[0mconnection\u001b[0m\u001b[1;33m.\u001b[0m\u001b[0mcursor\u001b[0m\u001b[1;33m(\u001b[0m\u001b[1;33m)\u001b[0m\u001b[1;33m\u001b[0m\u001b[1;33m\u001b[0m\u001b[0m\n\u001b[0m\u001b[0;32m      3\u001b[0m     \u001b[1;32mtry\u001b[0m\u001b[1;33m:\u001b[0m\u001b[1;33m\u001b[0m\u001b[1;33m\u001b[0m\u001b[0m\n\u001b[0;32m      4\u001b[0m         \u001b[0mcursor\u001b[0m\u001b[1;33m.\u001b[0m\u001b[0mexecute\u001b[0m\u001b[1;33m(\u001b[0m\u001b[0mquery\u001b[0m\u001b[1;33m)\u001b[0m\u001b[1;33m\u001b[0m\u001b[1;33m\u001b[0m\u001b[0m\n\u001b[0;32m      5\u001b[0m         \u001b[0mprint\u001b[0m\u001b[1;33m(\u001b[0m\u001b[1;34m\"Database created successfully\"\u001b[0m\u001b[1;33m)\u001b[0m\u001b[1;33m\u001b[0m\u001b[1;33m\u001b[0m\u001b[0m\n",
      "\u001b[1;31mAttributeError\u001b[0m: 'NoneType' object has no attribute 'cursor'"
     ]
    }
   ],
   "source": [
    "create_database_query=\"create database hospital1\"\n",
    "create_database(connection, create_database_query)"
   ]
  },
  {
   "cell_type": "code",
   "execution_count": 11,
   "id": "4a38d906",
   "metadata": {},
   "outputs": [],
   "source": [
    "def create_database(connection, query):\n",
    "    cursor = connection.cursor()\n",
    "    try:\n",
    "        cursor.execute(query)\n",
    "        print(\"Database created successfully\")\n",
    "    except Error as err:\n",
    "        print(f\"Error: '{err}'\")"
   ]
  },
  {
   "cell_type": "code",
   "execution_count": 9,
   "id": "de8df4e2",
   "metadata": {},
   "outputs": [
    {
     "ename": "AttributeError",
     "evalue": "'NoneType' object has no attribute 'cursor'",
     "output_type": "error",
     "traceback": [
      "\u001b[1;31m---------------------------------------------------------------------------\u001b[0m",
      "\u001b[1;31mAttributeError\u001b[0m                            Traceback (most recent call last)",
      "\u001b[1;32m<ipython-input-9-cfa60cbfe61a>\u001b[0m in \u001b[0;36m<module>\u001b[1;34m\u001b[0m\n\u001b[0;32m      1\u001b[0m \u001b[0mcreate_database_query\u001b[0m\u001b[1;33m=\u001b[0m\u001b[1;34m\"create database hospital2\"\u001b[0m\u001b[1;33m\u001b[0m\u001b[1;33m\u001b[0m\u001b[0m\n\u001b[1;32m----> 2\u001b[1;33m \u001b[0mcreate_database\u001b[0m\u001b[1;33m(\u001b[0m\u001b[0mconnection\u001b[0m\u001b[1;33m,\u001b[0m \u001b[0mcreate_database_query\u001b[0m\u001b[1;33m)\u001b[0m\u001b[1;33m\u001b[0m\u001b[1;33m\u001b[0m\u001b[0m\n\u001b[0m",
      "\u001b[1;32m<ipython-input-7-f21a5dc6389a>\u001b[0m in \u001b[0;36mcreate_database\u001b[1;34m(connection, query)\u001b[0m\n\u001b[0;32m      1\u001b[0m \u001b[1;32mdef\u001b[0m \u001b[0mcreate_database\u001b[0m\u001b[1;33m(\u001b[0m\u001b[0mconnection\u001b[0m\u001b[1;33m,\u001b[0m \u001b[0mquery\u001b[0m\u001b[1;33m)\u001b[0m\u001b[1;33m:\u001b[0m\u001b[1;33m\u001b[0m\u001b[1;33m\u001b[0m\u001b[0m\n\u001b[1;32m----> 2\u001b[1;33m     \u001b[0mcursor\u001b[0m \u001b[1;33m=\u001b[0m \u001b[0mconnection\u001b[0m\u001b[1;33m.\u001b[0m\u001b[0mcursor\u001b[0m\u001b[1;33m(\u001b[0m\u001b[1;33m)\u001b[0m\u001b[1;33m\u001b[0m\u001b[1;33m\u001b[0m\u001b[0m\n\u001b[0m\u001b[0;32m      3\u001b[0m     \u001b[1;32mtry\u001b[0m\u001b[1;33m:\u001b[0m\u001b[1;33m\u001b[0m\u001b[1;33m\u001b[0m\u001b[0m\n\u001b[0;32m      4\u001b[0m         \u001b[0mcursor\u001b[0m\u001b[1;33m.\u001b[0m\u001b[0mexecute\u001b[0m\u001b[1;33m(\u001b[0m\u001b[0mquery\u001b[0m\u001b[1;33m)\u001b[0m\u001b[1;33m\u001b[0m\u001b[1;33m\u001b[0m\u001b[0m\n\u001b[0;32m      5\u001b[0m         \u001b[0mprint\u001b[0m\u001b[1;33m(\u001b[0m\u001b[1;34m\"Database created successfully\"\u001b[0m\u001b[1;33m)\u001b[0m\u001b[1;33m\u001b[0m\u001b[1;33m\u001b[0m\u001b[0m\n",
      "\u001b[1;31mAttributeError\u001b[0m: 'NoneType' object has no attribute 'cursor'"
     ]
    }
   ],
   "source": [
    "create_database_query=\"create database hospital2\"\n",
    "create_database(connection, create_database_query)"
   ]
  },
  {
   "cell_type": "code",
   "execution_count": null,
   "id": "f191d02f",
   "metadata": {},
   "outputs": [],
   "source": [
    "def create_db_connection(host_name, user_name, user_password, db_name):\n",
    "    connection = None\n",
    "    try:\n",
    "        connection = mysql.connector.connect(\n",
    "            host=host_name,\n",
    "            user=user_name,\n",
    "            passwd=user_password,\n",
    "            database=db_name\n",
    "        )\n",
    "        print(\"MySQL Database connection successful\")\n",
    "    except Error as err:\n",
    "        print(f\"Error: '{err}'\")\n",
    "\n",
    "    return connection"
   ]
  },
  {
   "cell_type": "code",
   "execution_count": null,
   "id": "74e27da7",
   "metadata": {},
   "outputs": [],
   "source": [
    "def execute_query(connection, query):\n",
    "    cursor = connection.cursor()\n",
    "    try:\n",
    "        cursor.execute(query)\n",
    "        connection.commit()\n",
    "        print(\"Query successful\")\n",
    "    except Error as err:\n",
    "        print(f\"Error: '{err}'\")"
   ]
  },
  {
   "cell_type": "code",
   "execution_count": null,
   "id": "333de03a",
   "metadata": {},
   "outputs": [],
   "source": [
    "# hospital1 database\n",
    "create_hospital10_table = \"\"\"\n",
    "CREATE TABLE hospital10 (\n",
    "  smart_id INT PRIMARY KEY,\n",
    "  first_name VARCHAR(40) NOT NULL,\n",
    "  last_name VARCHAR(40) NOT NULL,\n",
    "  phone_no VARCHAR(20)\n",
    "  );\n",
    " \"\"\"\n",
    "\n",
    "connection = create_db_connection(\"localhost\", \"root\", '', 'hospital1') # Connect to the Database\n",
    "execute_query(connection, create_hospital10_table) # Execute our defined query"
   ]
  },
  {
   "cell_type": "code",
   "execution_count": null,
   "id": "c4686b57",
   "metadata": {},
   "outputs": [],
   "source": [
    "# hospital2 database\n",
    "create_hospital20_table = \"\"\"\n",
    "CREATE TABLE hospital20 (\n",
    "  smart_id INT PRIMARY KEY,\n",
    "  first_name VARCHAR(40) NOT NULL,\n",
    "  last_name VARCHAR(40) NOT NULL,\n",
    "  phone_no VARCHAR(20)\n",
    "  );\n",
    " \"\"\"\n",
    "\n",
    "connection = create_db_connection(\"localhost\", \"root\", '', 'hospital2') # Connect to the Database\n",
    "execute_query(connection, create_hospital20_table) # Execute our defined query"
   ]
  },
  {
   "cell_type": "code",
   "execution_count": null,
   "id": "656a4cdd",
   "metadata": {},
   "outputs": [],
   "source": [
    "pop_hospital10 = \"\"\"\n",
    "INSERT INTO hospital10 VALUES\n",
    "(1,  'James', 'Smulder', '+491123456789'),\n",
    "(2, 'Stefanie','Martinez','+491234567890'), \n",
    "(3, 'Steve', 'jobs', '+44345678901'),\n",
    "(4, 'Friederike','Ross','+49456789012'),\n",
    "(5, 'Isobel', 'Raonic','+49567890123'),\n",
    "(6, 'Niamh', 'Williams','+49678901234');\n",
    "\"\"\"\n",
    "\n",
    "connection = create_db_connection(\"localhost\", \"root\", '', 'hospital1')\n",
    "execute_query(connection, pop_hospital10)"
   ]
  },
  {
   "cell_type": "code",
   "execution_count": null,
   "id": "ca7d1fc1",
   "metadata": {},
   "outputs": [],
   "source": [
    "def read_query(connection, query):\n",
    "    cursor = connection.cursor()\n",
    "    result = None\n",
    "    try:\n",
    "        cursor.execute(query)\n",
    "        result = cursor.fetchall()\n",
    "        return result\n",
    "    except Error as err:\n",
    "        print(f\"Error: '{err}'\")"
   ]
  },
  {
   "cell_type": "code",
   "execution_count": null,
   "id": "2b969fbd",
   "metadata": {},
   "outputs": [],
   "source": [
    "query1 = \"\"\"\n",
    "SELECT count(smart_id)\n",
    "FROM hospital10;\n",
    "\"\"\"\n",
    "\n",
    "connection = create_db_connection(\"localhost\", \"root\", '', 'hospital1')\n",
    "results_1 = read_query(connection, query1)\n",
    "\n",
    "for result in results_1:\n",
    "  print(results_1)"
   ]
  },
  {
   "cell_type": "code",
   "execution_count": null,
   "id": "d9f949c3",
   "metadata": {},
   "outputs": [],
   "source": [
    "query2 = \"\"\"\n",
    "SELECT *\n",
    "FROM hospital10;\n",
    "\"\"\"\n",
    "\n",
    "connection = create_db_connection(\"localhost\", \"root\", '', 'hospital1')\n",
    "results_2 = read_query(connection, query2)\n",
    "\n",
    "#for result in results_2:\n",
    "print(results_2)\n"
   ]
  },
  {
   "cell_type": "code",
   "execution_count": null,
   "id": "4c4203bc",
   "metadata": {},
   "outputs": [],
   "source": [
    "# copy records fromone db to another\n",
    "input_var = input(\"Enter smart_id of record to be copied: \")\n",
    "\n",
    "query4 = \"\"\"\n",
    "insert into hospital2.hospital20 \n",
    "select *\n",
    "from hospital1.hospital10\n",
    "where smart_id= %s;\n",
    "\"\"\" % input_var\n",
    "\n",
    "query5 = \"\"\"\n",
    "select *\n",
    "from hospital2.hospital20;\n",
    "\"\"\"\n",
    "\n",
    "connection = create_db_connection(\"localhost\", \"root\", '', 'hospital2')\n",
    "mycursor = connection.cursor();\n",
    "\n",
    "mycursor.execute(query4)\n",
    "connection.commit()\n",
    "\n",
    "results_5 = read_query(connection, query4)\n",
    "#from_db = []\n",
    "\n",
    "for result in results_5:\n",
    "      print(results_5)"
   ]
  },
  {
   "cell_type": "code",
   "execution_count": null,
   "id": "12fa4b40",
   "metadata": {},
   "outputs": [],
   "source": [
    "#try 1\n",
    "\n",
    "#input_var = input(\"Enter smart_id of record to be copied: \")\n",
    "\n",
    "#query3 = \"\"\"\n",
    "#insert into hospital2.hospital20\n",
    "#select *\n",
    "#from hospital1.hospital10\n",
    "#where smart_id= %s;\n",
    "#\"\"\" % input_var\n",
    "\n",
    "#connection = create_db_connection(\"localhost\", \"root\", '', 'hospital1')\n",
    "#results_3 = read_query(connection, query3)\n",
    "\n",
    "#for result in results_3:\n",
    "#  print(results_3)"
   ]
  },
  {
   "cell_type": "code",
   "execution_count": null,
   "id": "5001fa47",
   "metadata": {},
   "outputs": [],
   "source": [
    "#input_var = input(\"Enter smart_id of record to be copied: \")\n",
    "\n",
    "#select_sql = \"\"\"\n",
    "#SELECT * FROM hospital10\n",
    "#where smart_id= %s\n",
    "#\"\"\" % input_var\n",
    "\n",
    "#select_sql = \"\"\"\n",
    "#INSERT INTO hospital20 \n",
    "#\"\"\" \n",
    "\n",
    "#src_connection = create_db_connection(\"localhost\", \"root\",'','hospital1')\n",
    "#dest_connection = create_db_connection(\"localhost\", \"root\", '','hospital2')\n",
    "#results_3 = execute_query(src_connection , dest_connection, select_sql,select_sql)\n",
    "\n",
    "#for result in results_3:\n",
    "#  print(results_3)"
   ]
  },
  {
   "cell_type": "code",
   "execution_count": null,
   "id": "e9e01417",
   "metadata": {},
   "outputs": [],
   "source": [
    "# sql where query\n",
    "#query4 = \"\"\"\n",
    "#SELECT *\n",
    "#FROM hospital10 where smart_id=1;\n",
    "#\"\"\"\n",
    "\n",
    "#connection = create_db_connection(\"localhost\", \"root\", '', 'hospital1')\n",
    "#results_4 = read_query(connection, query4)\n",
    "\n",
    "#for result in results_4:\n",
    "#  print(results_4)"
   ]
  },
  {
   "cell_type": "code",
   "execution_count": null,
   "id": "8c1346b2",
   "metadata": {},
   "outputs": [],
   "source": [
    "# checking if the record was successfully copied into the second database\n",
    "query5 = \"\"\"\n",
    "SELECT count(smart_id)\n",
    "FROM hospital20;\n",
    "\"\"\"\n",
    "\n",
    "connection = create_db_connection(\"localhost\", \"root\", '', 'hospital2')\n",
    "results_5 = read_query(connection, query5)\n",
    "\n",
    "for result in results_5:\n",
    "  print(results_5)"
   ]
  },
  {
   "cell_type": "code",
   "execution_count": null,
   "id": "33bc7795",
   "metadata": {},
   "outputs": [],
   "source": []
  }
 ],
 "metadata": {
  "kernelspec": {
   "display_name": "Python 3",
   "language": "python",
   "name": "python3"
  },
  "language_info": {
   "codemirror_mode": {
    "name": "ipython",
    "version": 3
   },
   "file_extension": ".py",
   "mimetype": "text/x-python",
   "name": "python",
   "nbconvert_exporter": "python",
   "pygments_lexer": "ipython3",
   "version": "3.8.8"
  }
 },
 "nbformat": 4,
 "nbformat_minor": 5
}
